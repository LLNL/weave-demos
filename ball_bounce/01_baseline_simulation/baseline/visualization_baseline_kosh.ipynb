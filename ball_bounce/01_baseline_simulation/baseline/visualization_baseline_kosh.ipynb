{
 "cells": [
  {
   "cell_type": "markdown",
   "metadata": {},
   "source": [
    "# Loading data"
   ]
  },
  {
   "cell_type": "code",
   "execution_count": 75,
   "metadata": {
    "scrolled": true
   },
   "outputs": [
    {
     "name": "stdout",
     "output_type": "stream",
     "text": [
      "Sina and Kosh are ready!\n"
     ]
    }
   ],
   "source": [
    "from numbers import Number\n",
    "from collections import defaultdict\n",
    "\n",
    "import matplotlib.pyplot as plt\n",
    "import ipywidgets as widgets\n",
    "from IPython.display import display, clear_output\n",
    "\n",
    "import sina.datastores.sql as sina_sql\n",
    "import sina.utils\n",
    "from sina.datastore import create_datastore\n",
    "from sina.visualization import Visualizer\n",
    "import math\n",
    "import kosh\n",
    "\n",
    "%matplotlib notebook\n",
    "\n",
    "# Initialization\n",
    "database = './data/baseline_output.sqlite'\n",
    "target_type = \"csv_rec\"\n",
    "datastore = kosh.connect(database)\n",
    "# recs = datastore.records\n",
    "# vis = Visualizer(datastore)\n",
    "print(\"Sina and Kosh are ready!\")"
   ]
  },
  {
   "cell_type": "markdown",
   "metadata": {},
   "source": [
    "# Adding Data to Records"
   ]
  },
  {
   "cell_type": "code",
   "execution_count": 80,
   "metadata": {},
   "outputs": [
    {
     "name": "stdout",
     "output_type": "stream",
     "text": [
      "Attributes:\n",
      "\t ['box_side_length', 'gravity', 'group_id', 'id', 'num_bounces', 'x_pos_final', 'x_pos_initial', 'x_vel_final', 'x_vel_initial', 'y_pos_final', 'y_pos_initial', 'y_vel_final', 'y_vel_initial', 'z_pos_final', 'z_pos_initial', 'z_vel_final', 'z_vel_initial']\n",
      "\n",
      "\n",
      "Features Sets:\n",
      "\t ['physics_cycle_series', 'physics_cycle_series/cycle', 'physics_cycle_series/time', 'physics_cycle_series/x_pos', 'physics_cycle_series/y_pos', 'physics_cycle_series/z_pos']\n",
      "id: 47bcda_3\n",
      "\tx_rmse: 0.19772673369471488\n",
      "\ty_rmse: 0.11232115336574376\n",
      "\tz_rmse: 1.430031261314339\n"
     ]
    },
    {
     "ename": "AttributeError",
     "evalue": "Object 47bcda_3 does not have add_curve attribute",
     "output_type": "error",
     "traceback": [
      "\u001b[0;31m---------------------------------------------------------------------------\u001b[0m",
      "\u001b[0;31mAttributeError\u001b[0m                            Traceback (most recent call last)",
      "\u001b[0;32m/tmp/ipykernel_85689/1936655010.py\u001b[0m in \u001b[0;36m<module>\u001b[0;34m\u001b[0m\n\u001b[1;32m     47\u001b[0m \u001b[0;34m\u001b[0m\u001b[0m\n\u001b[1;32m     48\u001b[0m     \u001b[0msetattr\u001b[0m\u001b[0;34m(\u001b[0m\u001b[0mdataset\u001b[0m\u001b[0;34m,\u001b[0m \u001b[0;34m'x_rmse'\u001b[0m\u001b[0;34m,\u001b[0m \u001b[0mx_rmse\u001b[0m\u001b[0;34m)\u001b[0m\u001b[0;34m\u001b[0m\u001b[0;34m\u001b[0m\u001b[0m\n\u001b[0;32m---> 49\u001b[0;31m     \u001b[0mdataset\u001b[0m\u001b[0;34m.\u001b[0m\u001b[0madd_curve\u001b[0m\u001b[0;34m(\u001b[0m\u001b[0mx_diff\u001b[0m\u001b[0;34m,\u001b[0m\u001b[0;34m'x_diff'\u001b[0m\u001b[0;34m,\u001b[0m \u001b[0;34m'physics_cycle_series'\u001b[0m\u001b[0;34m)\u001b[0m\u001b[0;34m\u001b[0m\u001b[0;34m\u001b[0m\u001b[0m\n\u001b[0m\u001b[1;32m     50\u001b[0m     \u001b[0msetattr\u001b[0m\u001b[0;34m(\u001b[0m\u001b[0mdataset\u001b[0m\u001b[0;34m,\u001b[0m \u001b[0;34m'y_rmse'\u001b[0m\u001b[0;34m,\u001b[0m \u001b[0my_rmse\u001b[0m\u001b[0;34m)\u001b[0m\u001b[0;34m\u001b[0m\u001b[0;34m\u001b[0m\u001b[0m\n\u001b[1;32m     51\u001b[0m     \u001b[0mdataset\u001b[0m\u001b[0;34m.\u001b[0m\u001b[0madd_curve\u001b[0m\u001b[0;34m(\u001b[0m\u001b[0my_diff\u001b[0m\u001b[0;34m,\u001b[0m\u001b[0;34m'y_diff'\u001b[0m\u001b[0;34m,\u001b[0m \u001b[0;34m'physics_cycle_series'\u001b[0m\u001b[0;34m)\u001b[0m\u001b[0;34m\u001b[0m\u001b[0;34m\u001b[0m\u001b[0m\n",
      "\u001b[0;32m~/Projects/WEAVE/weave_demos/ball_bounce/ball_bounce_demo_venv/lib/python3.7/site-packages/kosh/core_sina.py\u001b[0m in \u001b[0;36m__getattr__\u001b[0;34m(self, name)\u001b[0m\n\u001b[1;32m    149\u001b[0m                 raise AttributeError(\n\u001b[1;32m    150\u001b[0m                     \"Object {} does not have {} attribute\".format(self.id,\n\u001b[0;32m--> 151\u001b[0;31m                                                                   name))\n\u001b[0m\u001b[1;32m    152\u001b[0m         \u001b[0mvalue\u001b[0m \u001b[0;34m=\u001b[0m \u001b[0mrecord\u001b[0m\u001b[0;34m[\u001b[0m\u001b[0;34m\"data\"\u001b[0m\u001b[0;34m]\u001b[0m\u001b[0;34m[\u001b[0m\u001b[0mname\u001b[0m\u001b[0;34m]\u001b[0m\u001b[0;34m[\u001b[0m\u001b[0;34m\"value\"\u001b[0m\u001b[0;34m]\u001b[0m\u001b[0;34m\u001b[0m\u001b[0;34m\u001b[0m\u001b[0m\n\u001b[1;32m    153\u001b[0m         \u001b[0;32mif\u001b[0m \u001b[0mname\u001b[0m \u001b[0;34m==\u001b[0m \u001b[0;34m\"creator\"\u001b[0m\u001b[0;34m:\u001b[0m\u001b[0;34m\u001b[0m\u001b[0;34m\u001b[0m\u001b[0m\n",
      "\u001b[0;31mAttributeError\u001b[0m: Object 47bcda_3 does not have add_curve attribute"
     ]
    }
   ],
   "source": [
    "def RMSE(x_true, x_pred):\n",
    "    summation = 0\n",
    "    for xt, xp in zip(x_true, x_pred):\n",
    "        summation += (xt-xp)**2\n",
    "    mean = summation/len(x_true)\n",
    "    rmse = math.sqrt(mean)\n",
    "    return rmse\n",
    "\n",
    "\n",
    "def diff(x_true, x_pred):\n",
    "    dif = []\n",
    "    for xt, xp in zip(x_true, x_pred):\n",
    "        dif.append(xt-xp)\n",
    "    return dif\n",
    "\n",
    "val = list(datastore.find(id_pool = '47bcda_0'))[0] #need to convert to list then extract\n",
    "# Printing Attributes and Features\n",
    "print('Attributes:')\n",
    "print('\\t',val.list_attributes())\n",
    "print('\\n')\n",
    "print('Features Sets:')\n",
    "print('\\t',val.list_features())\n",
    "\n",
    "# Validation Data\n",
    "x_true = val['physics_cycle_series/x_pos'][:]\n",
    "y_true = val['physics_cycle_series/y_pos'][:]\n",
    "z_true = val['physics_cycle_series/z_pos'][:]\n",
    "time = val['physics_cycle_series/time'][:]\n",
    "\n",
    "# Adding RMSE and Diff data to each record\n",
    "for dataset in datastore.find(): # Each record is now a dataset\n",
    "    print(f\"id: {dataset.id}\")\n",
    "    x_pred = dataset['physics_cycle_series/x_pos'][:]\n",
    "    y_pred = dataset['physics_cycle_series/y_pos'][:]\n",
    "    z_pred = dataset['physics_cycle_series/z_pos'][:]\n",
    "\n",
    "    x_diff = diff(x_true, x_pred)\n",
    "    x_rmse = RMSE(x_true, x_pred)\n",
    "    y_diff = diff(y_true, y_pred)\n",
    "    y_rmse = RMSE(y_true, y_pred)\n",
    "    z_diff = diff(z_true, z_pred)\n",
    "    z_rmse = RMSE(z_true, z_pred)\n",
    "\n",
    "    print(f\"\\tx_rmse: {x_rmse}\")\n",
    "    print(f\"\\ty_rmse: {y_rmse}\")\n",
    "    print(f\"\\tz_rmse: {z_rmse}\")\n",
    "\n",
    "    setattr(dataset, 'x_rmse', x_rmse)\n",
    "    dataset.add_curve(x_diff,'x_diff', 'physics_cycle_series')\n",
    "    setattr(dataset, 'y_rmse', y_rmse)\n",
    "    dataset.add_curve(y_diff,'y_diff', 'physics_cycle_series')\n",
    "    setattr(dataset, 'z_rmse', z_rmse)\n",
    "    dataset.add_curve(z_diff,'z_diff', 'physics_cycle_series')\n",
    "\n",
    "    recs.update(rec)  # need to update or else won't save!!!!!"
   ]
  },
  {
   "cell_type": "markdown",
   "metadata": {},
   "source": [
    "# Parameter Table"
   ]
  },
  {
   "cell_type": "code",
   "execution_count": null,
   "metadata": {},
   "outputs": [],
   "source": [
    "# Printing parameter table in Markdown\n",
    "header = 1\n",
    "for rec in recs.get_all():\n",
    "\n",
    "    if header == 1:\n",
    "        print('| rec.id | x_pos_initial | y_pos_initial | z_pos_initial | x_vel_initial | y_vel_initial | z_vel_initial |')\n",
    "        print('| --- | --- | --- | --- | --- | --- | --- |')\n",
    "        header = 0\n",
    "    print('|', rec.id,\n",
    "          '|', rec.data['x_pos_initial']['value'],\n",
    "          '|', rec.data['y_pos_initial']['value'],\n",
    "          '|', rec.data['z_pos_initial']['value'],\n",
    "          '|', rec.data['x_vel_initial']['value'],\n",
    "          '|', rec.data['y_vel_initial']['value'],\n",
    "          '|', rec.data['z_vel_initial']['value'],\n",
    "          '|'\n",
    "          )"
   ]
  },
  {
   "cell_type": "markdown",
   "metadata": {},
   "source": [
    "# Plotting QoIs and their Diff\n"
   ]
  },
  {
   "cell_type": "code",
   "execution_count": null,
   "metadata": {
    "scrolled": false
   },
   "outputs": [],
   "source": [
    "fig, ax = plt.subplots(nrows=2, ncols=3, figsize=(15, 10))\n",
    "\n",
    "\n",
    "_ = vis.create_line_plot(fig=fig, ax=ax[0, 0], x=\"time\", y=\"x_pos\", title=\"{y_name}\")\n",
    "_ = vis.create_line_plot(fig=fig, ax=ax[0, 1], x=\"time\", y=\"y_pos\", title=\"{y_name}\")\n",
    "_ = vis.create_line_plot(fig=fig, ax=ax[0, 2], x=\"time\", y=\"z_pos\", title=\"{y_name}\")\n",
    "\n",
    "_ = vis.create_line_plot(fig=fig, ax=ax[1, 0], x=\"time\", y=\"x_diff\", title=\"{y_name}\")\n",
    "_ = vis.create_line_plot(fig=fig, ax=ax[1, 1], x=\"time\", y=\"y_diff\", title=\"{y_name}\")\n",
    "_ = vis.create_line_plot(fig=fig, ax=ax[1, 2], x=\"time\", y=\"z_diff\", title=\"{y_name}\")\n",
    "\n",
    "fig.savefig(\"./images/QoIs.png\")"
   ]
  },
  {
   "cell_type": "markdown",
   "metadata": {},
   "source": [
    "# RMSE Plots"
   ]
  },
  {
   "cell_type": "code",
   "execution_count": null,
   "metadata": {
    "scrolled": true
   },
   "outputs": [],
   "source": [
    "fig, ax = plt.subplots(nrows=1, ncols=3, figsize=(15, 10))\n",
    "\n",
    "header = 1\n",
    "for rec in recs.get_all():\n",
    "    ax[0].bar(x=rec.id, height=rec.data['x_rmse']['value'])\n",
    "    ax[1].bar(x=rec.id, height=rec.data['y_rmse']['value'])\n",
    "    ax[2].bar(x=rec.id, height=rec.data['z_rmse']['value'])\n",
    "\n",
    "    if header == 1:\n",
    "        print('| rec.id | x_rmse | y_rmse | z_rmse | Mean RMSE |')\n",
    "        print('| --- | --- | --- | --- | --- |')\n",
    "        header = 0\n",
    "    print('|', rec.id,\n",
    "          '|', round(rec.data['x_rmse']['value'], 2),\n",
    "          '|', round(rec.data['y_rmse']['value'], 2),\n",
    "          '|', round(rec.data['z_rmse']['value'], 2),\n",
    "          '|', round((rec.data['x_rmse']['value']+rec.data['y_rmse']['value']+rec.data['z_rmse']['value'])/3, 2),\n",
    "          '|'\n",
    "          )\n",
    "\n",
    "ax[0].tick_params(rotation=45)\n",
    "ax[1].tick_params(rotation=45)\n",
    "ax[2].tick_params(rotation=45)\n",
    "\n",
    "ax[0].set_title('x_rmse')\n",
    "ax[1].set_title('y_rmse')\n",
    "ax[2].set_title('z_rmse')\n",
    "\n",
    "ax[0].set_ylabel('x_rmse')\n",
    "ax[1].set_ylabel('y_rmse')\n",
    "ax[2].set_ylabel('z_rmse')\n",
    "\n",
    "fig.savefig(\"./images/RMSE.png\")"
   ]
  },
  {
   "cell_type": "code",
   "execution_count": null,
   "metadata": {},
   "outputs": [],
   "source": []
  }
 ],
 "metadata": {
  "kernelspec": {
   "display_name": "ball-bounce-demo",
   "language": "python",
   "name": "ball-bounce-demo"
  },
  "language_info": {
   "codemirror_mode": {
    "name": "ipython",
    "version": 3
   },
   "file_extension": ".py",
   "mimetype": "text/x-python",
   "name": "python",
   "nbconvert_exporter": "python",
   "pygments_lexer": "ipython3",
   "version": "3.7.2"
  }
 },
 "nbformat": 4,
 "nbformat_minor": 2
}
