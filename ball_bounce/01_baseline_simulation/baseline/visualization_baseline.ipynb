{
 "cells": [
  {
   "cell_type": "markdown",
   "metadata": {},
   "source": [
    "# Loading data"
   ]
  },
  {
   "cell_type": "code",
   "execution_count": null,
   "metadata": {},
   "outputs": [],
   "source": [
    "from numbers import Number\n",
    "from collections import defaultdict\n",
    "\n",
    "import matplotlib.pyplot as plt\n",
    "import ipywidgets as widgets\n",
    "from IPython.display import display, clear_output\n",
    "\n",
    "import sina.datastores.sql as sina_sql\n",
    "import sina.utils\n",
    "from sina.datastore import create_datastore\n",
    "from sina.visualization import Visualizer\n",
    "import math\n",
    "\n",
    "%matplotlib notebook\n",
    "\n",
    "# Initialization\n",
    "database = './data/baseline_output.sqlite'\n",
    "target_type = \"csv_rec\"\n",
    "datastore = create_datastore(database)\n",
    "recs = datastore.records\n",
    "vis = Visualizer(datastore)\n",
    "print(\"Sina is ready!\")"
   ]
  },
  {
   "cell_type": "markdown",
   "metadata": {},
   "source": [
    "# Adding Data to Records"
   ]
  },
  {
   "cell_type": "code",
   "execution_count": null,
   "metadata": {},
   "outputs": [],
   "source": [
    "def RMSE(x_true, x_pred):\n",
    "    summation = 0\n",
    "    for xt, xp in zip(x_true, x_pred):\n",
    "        summation += (xt-xp)**2\n",
    "    mean = summation/len(x_true)\n",
    "    rmse = math.sqrt(mean)\n",
    "    return rmse\n",
    "\n",
    "\n",
    "def diff(x_true, x_pred):\n",
    "    dif = []\n",
    "    for xt, xp in zip(x_true, x_pred):\n",
    "        dif.append(xt-xp)\n",
    "    return dif\n",
    "\n",
    "\n",
    "val = recs.get('47bcda_0')\n",
    "print(val.data.keys())  # since there are no embedded keys we can just use this\n",
    "# print(val.curve_sets)  # no curve sets\n",
    "\n",
    "\n",
    "# Validation Data\n",
    "x_true = val.data['x_pos']['value']\n",
    "y_true = val.data['y_pos']['value']\n",
    "z_true = val.data['z_pos']['value']\n",
    "time = val.data['time']['value']\n",
    "\n",
    "# Adding RMSE and Diff data to each record\n",
    "for rec in recs.get_all():\n",
    "    print(f\"id: {rec.id}\")\n",
    "    x_pred = rec.data['x_pos']['value']\n",
    "    y_pred = rec.data['y_pos']['value']\n",
    "    z_pred = rec.data['z_pos']['value']\n",
    "\n",
    "    x_diff = diff(x_true, x_pred)\n",
    "    x_rmse = RMSE(x_true, x_pred)\n",
    "    y_diff = diff(y_true, y_pred)\n",
    "    y_rmse = RMSE(y_true, y_pred)\n",
    "    z_diff = diff(z_true, z_pred)\n",
    "    z_rmse = RMSE(z_true, z_pred)\n",
    "\n",
    "    print(f\"\\tx_rmse: {x_rmse}\")\n",
    "    print(f\"\\ty_rmse: {y_rmse}\")\n",
    "    print(f\"\\tz_rmse: {z_rmse}\")\n",
    "\n",
    "    rec.add_data('x_rmse', x_rmse)\n",
    "    rec.add_data('x_diff', x_diff)\n",
    "    rec.add_data('y_rmse', y_rmse)\n",
    "    rec.add_data('y_diff', y_diff)\n",
    "    rec.add_data('z_rmse', z_rmse)\n",
    "    rec.add_data('z_diff', z_diff)\n",
    "\n",
    "    recs.update(rec)  # need to update or else won't save!!!!!"
   ]
  },
  {
   "cell_type": "markdown",
   "metadata": {},
   "source": [
    "# Parameter Table"
   ]
  },
  {
   "cell_type": "code",
   "execution_count": null,
   "metadata": {},
   "outputs": [],
   "source": [
    "# Printing parameter table in Markdown\n",
    "header = 1\n",
    "for rec in recs.get_all():\n",
    "\n",
    "    if header == 1:\n",
    "        print('| rec.id | x_pos_initial | y_pos_initial | z_pos_initial | x_vel_initial | y_vel_initial | z_vel_initial |')\n",
    "        print('| --- | --- | --- | --- | --- | --- | --- |')\n",
    "        header = 0\n",
    "    print('|', rec.id,\n",
    "          '|', rec.data['x_pos_initial']['value'],\n",
    "          '|', rec.data['y_pos_initial']['value'],\n",
    "          '|', rec.data['z_pos_initial']['value'],\n",
    "          '|', rec.data['x_vel_initial']['value'],\n",
    "          '|', rec.data['y_vel_initial']['value'],\n",
    "          '|', rec.data['z_vel_initial']['value'],\n",
    "          '|'\n",
    "          )"
   ]
  },
  {
   "cell_type": "markdown",
   "metadata": {},
   "source": [
    "# Plotting QoIs and their Diff\n"
   ]
  },
  {
   "cell_type": "code",
   "execution_count": null,
   "metadata": {
    "scrolled": false
   },
   "outputs": [],
   "source": [
    "fig, ax = plt.subplots(nrows=2, ncols=3, figsize=(15, 10))\n",
    "\n",
    "\n",
    "_ = vis.create_line_plot(fig=fig, ax=ax[0, 0], x=\"time\", y=\"x_pos\", title=\"{y_name}\")\n",
    "_ = vis.create_line_plot(fig=fig, ax=ax[0, 1], x=\"time\", y=\"y_pos\", title=\"{y_name}\")\n",
    "_ = vis.create_line_plot(fig=fig, ax=ax[0, 2], x=\"time\", y=\"z_pos\", title=\"{y_name}\")\n",
    "\n",
    "_ = vis.create_line_plot(fig=fig, ax=ax[1, 0], x=\"time\", y=\"x_diff\", title=\"{y_name}\")\n",
    "_ = vis.create_line_plot(fig=fig, ax=ax[1, 1], x=\"time\", y=\"y_diff\", title=\"{y_name}\")\n",
    "_ = vis.create_line_plot(fig=fig, ax=ax[1, 2], x=\"time\", y=\"z_diff\", title=\"{y_name}\")\n",
    "\n",
    "fig.savefig(\"./images/QoIs.png\")"
   ]
  },
  {
   "cell_type": "markdown",
   "metadata": {},
   "source": [
    "# RMSE Plots"
   ]
  },
  {
   "cell_type": "code",
   "execution_count": null,
   "metadata": {
    "scrolled": true
   },
   "outputs": [],
   "source": [
    "fig, ax = plt.subplots(nrows=1, ncols=3, figsize=(15, 10))\n",
    "\n",
    "header = 1\n",
    "for rec in recs.get_all():\n",
    "    ax[0].bar(x=rec.id, height=rec.data['x_rmse']['value'])\n",
    "    ax[1].bar(x=rec.id, height=rec.data['y_rmse']['value'])\n",
    "    ax[2].bar(x=rec.id, height=rec.data['z_rmse']['value'])\n",
    "\n",
    "    if header == 1:\n",
    "        print('| rec.id | x_rmse | y_rmse | z_rmse | Mean RMSE |')\n",
    "        print('| --- | --- | --- | --- | --- |')\n",
    "        header = 0\n",
    "    print('|', rec.id,\n",
    "          '|', round(rec.data['x_rmse']['value'], 2),\n",
    "          '|', round(rec.data['y_rmse']['value'], 2),\n",
    "          '|', round(rec.data['z_rmse']['value'], 2),\n",
    "          '|', round((rec.data['x_rmse']['value']+rec.data['y_rmse']['value']+rec.data['z_rmse']['value'])/3, 2),\n",
    "          '|'\n",
    "          )\n",
    "\n",
    "ax[0].tick_params(rotation=45)\n",
    "ax[1].tick_params(rotation=45)\n",
    "ax[2].tick_params(rotation=45)\n",
    "\n",
    "ax[0].set_title('x_rmse')\n",
    "ax[1].set_title('y_rmse')\n",
    "ax[2].set_title('z_rmse')\n",
    "\n",
    "ax[0].set_ylabel('x_rmse')\n",
    "ax[1].set_ylabel('y_rmse')\n",
    "ax[2].set_ylabel('z_rmse')\n",
    "\n",
    "fig.savefig(\"./images/RMSE.png\")"
   ]
  }
 ],
 "metadata": {
  "kernelspec": {
   "display_name": "ball-bounce-demo",
   "language": "python",
   "name": "ball-bounce-demo"
  },
  "language_info": {
   "codemirror_mode": {
    "name": "ipython",
    "version": 3
   },
   "file_extension": ".py",
   "mimetype": "text/x-python",
   "name": "python",
   "nbconvert_exporter": "python",
   "pygments_lexer": "ipython3",
   "version": "3.8.2"
  }
 },
 "nbformat": 4,
 "nbformat_minor": 2
}
