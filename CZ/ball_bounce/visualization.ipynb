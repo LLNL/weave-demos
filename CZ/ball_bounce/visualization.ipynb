{
 "cells": [
  {
   "cell_type": "markdown",
   "metadata": {},
   "source": [
    "Visualizing our Simulations\n",
    "========================\n",
    "\n",
    "Each time we run our Maestro study, we add 10 new runs of the ball bouncing simulation to our datastore. Now let's take a look at those results..."
   ]
  },
  {
   "cell_type": "code",
   "execution_count": null,
   "metadata": {},
   "outputs": [],
   "source": [
    "from numbers import Number\n",
    "from collections import defaultdict\n",
    "\n",
    "import matplotlib\n",
    "import matplotlib.pyplot as plt\n",
    "import ipywidgets as widgets\n",
    "from IPython.display import display, clear_output\n",
    "\n",
    "import sina.datastores.sql as sina_sql\n",
    "import sina.utils\n",
    "from sina.datastore import create_datastore\n",
    "from sina.visualization import Visualizer\n",
    "\n",
    "# For notebook interactive widgets\n",
    "# %matplotlib notebook\n",
    "\n",
    "# For lab turn off interactive widgets\n",
    "%matplotlib inline\n",
    "\n",
    "# use this instead of notebook if using vscode, unless you install the matplotlib extension\n",
    "#%matplotlib widget\n",
    "\n",
    "# Initialization\n",
    "database = 'output.sqlite'\n",
    "target_type = \"csv_rec\"\n",
    "datastore = create_datastore(database)\n",
    "recs = datastore.records\n",
    "vis = Visualizer(datastore)\n",
    "print(\"Sina is ready!\")"
   ]
  },
  {
   "cell_type": "markdown",
   "metadata": {},
   "source": [
    "Sanity Check: are our runs randomized?\n",
    "========\n",
    "\n",
    "We want to make sure our starting positions are properly randomized. There should be a variety of values in this graph."
   ]
  },
  {
   "cell_type": "code",
   "execution_count": null,
   "metadata": {
    "scrolled": true
   },
   "outputs": [],
   "source": [
    "_= vis.create_histogram(\"x_vel_initial\", interactive=True)"
   ]
  },
  {
   "cell_type": "markdown",
   "metadata": {},
   "source": [
    "Simple hypothesis testing\n",
    "===============\n",
    "\n",
    "Could there be a relationship between having a high initial velocity and a high number of bounces?"
   ]
  },
  {
   "cell_type": "code",
   "execution_count": null,
   "metadata": {
    "scrolled": true
   },
   "outputs": [],
   "source": [
    "_ = vis.create_scatter_plot(\"y_vel_initial\", \"num_bounces\", interactive=True, matplotlib_options={\"color\": \"orange\", \"alpha\": 0.5, \"s\": 80})"
   ]
  },
  {
   "cell_type": "markdown",
   "metadata": {},
   "source": [
    "Actually watching a ball bounce\n",
    "===========================\n",
    "\n",
    "Since we're collecting position at each step, we can easily visualize how the ball bounching actually works...we'll select the ball with the high number of bounces for interest."
   ]
  },
  {
   "cell_type": "code",
   "execution_count": null,
   "metadata": {},
   "outputs": [],
   "source": [
    "id_pool = list(recs.find_with_max(\"num_bounces\", 1, ids_only=True))\n",
    "_ = vis.create_line_plot(\"x_pos\", \"y_pos\", id_pool=id_pool)"
   ]
  },
  {
   "cell_type": "markdown",
   "metadata": {},
   "source": [
    "Scaling Up\n",
    "==========\n",
    "\n",
    "Each run within a set shares a few starting conditions, but differs in several others. Let's see a whole set together in 3D space to compare their performances. First, let's see what groups we have available."
   ]
  },
  {
   "cell_type": "code",
   "execution_count": null,
   "metadata": {},
   "outputs": [],
   "source": [
    "groups = list(set(x[\"group_id\"][\"value\"] for x in recs.get_data([\"group_id\"]).values()))\n",
    "print(\"Found the following groups: {}\".format(groups))"
   ]
  },
  {
   "cell_type": "markdown",
   "metadata": {},
   "source": [
    "Pick whichever you like, set `GROUP_OF_INTEREST` equal to it, and watch the \"fireworks\"!\n",
    "\n",
    "This 3D plot isn't (yet) a formal part of Sina, but it's simple enough."
   ]
  },
  {
   "cell_type": "code",
   "execution_count": null,
   "metadata": {},
   "outputs": [],
   "source": [
    "from mpl_toolkits import mplot3d\n",
    "import numpy as np\n",
    "import matplotlib.pyplot as plt\n",
    "\n",
    "GROUP_OF_INTEREST = list(groups)[0]\n",
    "id_pool = list(recs.find_with_data(group_id=GROUP_OF_INTEREST))\n",
    "\n",
    "ball_set_fig = plt.figure()\n",
    "ball_set_ax = plt.axes(projection='3d')\n",
    "\n",
    "for rec_id in id_pool:\n",
    "    curveset = recs.get(rec_id).get_curve_set(\"physics_cycle_series\")\n",
    "    # Some slight weirdness due to 3D axis labeling...simulation thinks of y as up-down\n",
    "    ball_set_ax.plot3D(curveset.get_dependent(\"x_pos\")[\"value\"],\n",
    "                       curveset.get_dependent(\"z_pos\")[\"value\"],\n",
    "                       curveset.get_dependent(\"y_pos\")[\"value\"],\n",
    "                       label=rec_id)\n",
    "    ball_set_ax.set_xlabel('X')\n",
    "    ball_set_ax.set_zlabel('Y')\n",
    "    ball_set_ax.set_ylabel('Z')\n",
    "_ = ball_set_ax.legend()"
   ]
  },
  {
   "cell_type": "markdown",
   "metadata": {},
   "source": [
    "Close Curve Analysis with PyDV\n",
    "=========================\n",
    "\n",
    "While Sina allows you to survey large numbers of runs at once, it doesn't include many operations on individual curves. PyDV works directly with Sina, though, opening the door to some extremely powerful manipulations."
   ]
  },
  {
   "cell_type": "markdown",
   "metadata": {
    "tags": []
   },
   "source": [
    "## PyDV Plotting"
   ]
  },
  {
   "cell_type": "code",
   "execution_count": null,
   "metadata": {
    "scrolled": true,
    "tags": []
   },
   "outputs": [],
   "source": [
    "# Note: pydv's big! Importing it may take a moment.\n",
    "from pydv import pydvpy\n",
    "\n",
    "# PyDV operates on files. We'll dump one of Sina's records to a file\n",
    "PYDV_DEMO_FILENAME = \"pydv_demo_sina.json\"\n",
    "rec = list(recs.get_all())[0]\n",
    "rec.to_file(PYDV_DEMO_FILENAME)\n",
    "\n",
    "# For more information on PyDV's Python API visit https://pydv.readthedocs.io/en/latest/pydv.html\n",
    "curves = pydvpy.readsina(PYDV_DEMO_FILENAME)\n",
    "\n",
    "# Plotting with matplotlib\n",
    "plt.style.use('ggplot')\n",
    "for cur in curves:\n",
    "    # print(cur.__dict__)\n",
    "    plt.plot(cur.x, cur.y, label=cur.name)\n",
    "    \n",
    "plt.title(\"My Plot\")\n",
    "plt.xlabel(\"X\")\n",
    "plt.ylabel(\"Y\")\n",
    "plt.legend(loc=\"upper right\")\n",
    "fig = matplotlib.pyplot.gcf()\n",
    "fig.set_size_inches(10.1, 11.3)\n",
    "fig.savefig('myPlot1.png', dpi=100)\n"
   ]
  },
  {
   "cell_type": "code",
   "execution_count": null,
   "metadata": {},
   "outputs": [],
   "source": [
    "# Or you can use PyDV's built in plotting capabilities which are built on top of matplotlib\n",
    "plot2 = pydvpy.create_plot(curves, fname='myPlot2', ftype='png', fwidth=10.1, fheight=11.3, title='My Plot', xlabel='X', ylabel='Y', legend=True, stylename='ggplot')"
   ]
  },
  {
   "cell_type": "markdown",
   "metadata": {},
   "source": [
    "## PyDV Maths"
   ]
  },
  {
   "cell_type": "code",
   "execution_count": null,
   "metadata": {},
   "outputs": [],
   "source": [
    "# Take the cosine of y values of a Curve or list of Curves.\n",
    "pydvpy.cos(curves)\n",
    "plot3 = pydvpy.create_plot(curves, fname='myPlot2 cos', ftype='png', fwidth=10.1, fheight=11.3, title='My Plot', xlabel='X', ylabel='Y', legend=True, stylename='ggplot')"
   ]
  },
  {
   "cell_type": "code",
   "execution_count": null,
   "metadata": {},
   "outputs": [],
   "source": [
    "# Take the absolute value of the y values of the Curve or list of curves.\n",
    "pydvpy.abs(curves)\n",
    "plot4 = pydvpy.create_plot(curves, fname='myPlot2 cos abs', ftype='png', fwidth=10.1, fheight=11.3, title='My Plot', xlabel='X', ylabel='Y', legend=True, stylename='ggplot')"
   ]
  },
  {
   "cell_type": "code",
   "execution_count": null,
   "metadata": {
    "tags": []
   },
   "outputs": [],
   "source": [
    "# Add one or more curves.\n",
    "c = pydvpy.add(curves)\n",
    "plot5 = pydvpy.create_plot(c, fname='myPlot2 cos abs add', ftype='png', fwidth=10.1, fheight=11.3, title='My Plot', xlabel='X', ylabel='Y', legend=True, stylename='ggplot')"
   ]
  }
 ],
 "metadata": {
  "kernelspec": {
   "display_name": "weave-demos",
   "language": "python",
   "name": "weave-demos"
  },
  "language_info": {
   "codemirror_mode": {
    "name": "ipython",
    "version": 3
   },
   "file_extension": ".py",
   "mimetype": "text/x-python",
   "name": "python",
   "nbconvert_exporter": "python",
   "pygments_lexer": "ipython3",
   "version": "3.9.12"
  }
 },
 "nbformat": 4,
 "nbformat_minor": 4
}
