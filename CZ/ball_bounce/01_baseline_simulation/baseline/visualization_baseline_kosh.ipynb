{
 "cells": [
  {
   "cell_type": "markdown",
   "metadata": {},
   "source": [
    "# Loading data\n",
    "**For more examples of what Kosh can do visit [GitLab Examples](https://lc.llnl.gov/gitlab/ASCAML/kosh/-/tree/develop/examples).**"
   ]
  },
  {
   "cell_type": "code",
   "execution_count": null,
   "metadata": {
    "scrolled": true
   },
   "outputs": [],
   "source": [
    "from numbers import Number\n",
    "from collections import defaultdict\n",
    "\n",
    "import matplotlib.pyplot as plt\n",
    "import ipywidgets as widgets\n",
    "from IPython.display import display, clear_output\n",
    "\n",
    "import kosh\n",
    "import math\n",
    "import numpy as np\n",
    "\n",
    "%matplotlib notebook\n",
    "\n",
    "# Initialization\n",
    "database = './data/baseline_output.sqlite'\n",
    "target_type = \"csv_rec\"\n",
    "datastore = kosh.connect(database)\n",
    "print(\"Kosh is ready!\")"
   ]
  },
  {
   "cell_type": "markdown",
   "metadata": {},
   "source": [
    "# Adding Data to Records"
   ]
  },
  {
   "cell_type": "code",
   "execution_count": null,
   "metadata": {
    "scrolled": false
   },
   "outputs": [],
   "source": [
    "def RMSE(x_true, x_pred):\n",
    "    summation = 0\n",
    "    for xt, xp in zip(x_true, x_pred):\n",
    "        summation += (xt-xp)**2\n",
    "    mean = summation/len(x_true)\n",
    "    rmse = math.sqrt(mean)\n",
    "    return rmse\n",
    "\n",
    "\n",
    "def diff(x_true, x_pred):\n",
    "    dif = []\n",
    "    for xt, xp in zip(x_true, x_pred):\n",
    "        dif.append(xt-xp)\n",
    "    return dif\n",
    "\n",
    "val = list(datastore.find(id_pool = '47bcda_0'))[0] #need to convert to list then extract\n",
    "# Printing Attributes and Features\n",
    "print('Attributes:')\n",
    "print('\\t',val.list_attributes())\n",
    "print('\\n')\n",
    "print('Features Sets:')\n",
    "print('\\t',val.list_features())\n",
    "\n",
    "# Validation Data\n",
    "x_true = val['physics_cycle_series/x_pos'][:]\n",
    "y_true = val['physics_cycle_series/y_pos'][:]\n",
    "z_true = val['physics_cycle_series/z_pos'][:]\n",
    "time = val['physics_cycle_series/time'][:]\n",
    "\n",
    "# Adding RMSE and Diff data to each record\n",
    "for dataset in datastore.find(): # Each record is now a dataset\n",
    "    print(f\"id: {dataset.id}\")\n",
    "    x_pred = dataset['physics_cycle_series/x_pos'][:]\n",
    "    y_pred = dataset['physics_cycle_series/y_pos'][:]\n",
    "    z_pred = dataset['physics_cycle_series/z_pos'][:]\n",
    "\n",
    "    x_diff = diff(x_true, x_pred)\n",
    "    x_rmse = RMSE(x_true, x_pred)\n",
    "    y_diff = diff(y_true, y_pred)\n",
    "    y_rmse = RMSE(y_true, y_pred)\n",
    "    z_diff = diff(z_true, z_pred)\n",
    "    z_rmse = RMSE(z_true, z_pred)\n",
    "\n",
    "    print(f\"\\tx_rmse: {x_rmse}\")\n",
    "    print(f\"\\ty_rmse: {y_rmse}\")\n",
    "    print(f\"\\tz_rmse: {z_rmse}\")\n",
    "\n",
    "    setattr(dataset, 'x_rmse', x_rmse)\n",
    "    dataset.add_curve(np.array(x_diff).tolist(), 'physics_cycle_series', 'x_diff')\n",
    "    setattr(dataset, 'y_rmse', y_rmse)\n",
    "    dataset.add_curve(np.array(y_diff).tolist(), 'physics_cycle_series', 'y_diff')\n",
    "    setattr(dataset, 'z_rmse', z_rmse)\n",
    "    dataset.add_curve(np.array(z_diff).tolist(), 'physics_cycle_series', 'z_diff')\n"
   ]
  },
  {
   "cell_type": "markdown",
   "metadata": {},
   "source": [
    "# Parameter Table"
   ]
  },
  {
   "cell_type": "code",
   "execution_count": null,
   "metadata": {},
   "outputs": [],
   "source": [
    "# Printing parameter table in Markdown\n",
    "header = 1\n",
    "for dataset in datastore.find(): # Each record is now a dataset\n",
    "\n",
    "    if header == 1:\n",
    "        print('| rec.id | x_pos_initial | y_pos_initial | z_pos_initial | x_vel_initial | y_vel_initial | z_vel_initial |')\n",
    "        print('| --- | --- | --- | --- | --- | --- | --- |')\n",
    "        header = 0\n",
    "    print('|', dataset.id,\n",
    "          '|', dataset.x_pos_initial,\n",
    "          '|', dataset.y_pos_initial,\n",
    "          '|', dataset.z_pos_initial,\n",
    "          '|', dataset.x_vel_initial,\n",
    "          '|', dataset.y_vel_initial,\n",
    "          '|', dataset.z_vel_initial,\n",
    "          '|'\n",
    "          )"
   ]
  },
  {
   "cell_type": "markdown",
   "metadata": {},
   "source": [
    "# Plotting QoIs and their Diff\n"
   ]
  },
  {
   "cell_type": "code",
   "execution_count": null,
   "metadata": {
    "scrolled": false
   },
   "outputs": [],
   "source": [
    "fig, ax = plt.subplots(nrows=2, ncols=3, figsize=(15, 10))\n",
    "\n",
    "for dataset in datastore.find(): # Each record is now a dataset\n",
    "    ax[0, 0].plot(dataset['physics_cycle_series/time'][:], dataset['physics_cycle_series/x_pos'][:], label=dataset.id)\n",
    "    ax[0, 1].plot(dataset['physics_cycle_series/time'][:], dataset['physics_cycle_series/y_pos'][:], label=dataset.id)\n",
    "    ax[0, 2].plot(dataset['physics_cycle_series/time'][:], dataset['physics_cycle_series/z_pos'][:], label=dataset.id)\n",
    "    \n",
    "    ax[1, 0].plot(dataset['physics_cycle_series/time'][:], dataset['physics_cycle_series/x_diff'][:], label=dataset.id)\n",
    "    ax[1, 1].plot(dataset['physics_cycle_series/time'][:], dataset['physics_cycle_series/y_diff'][:], label=dataset.id)\n",
    "    ax[1, 2].plot(dataset['physics_cycle_series/time'][:], dataset['physics_cycle_series/z_diff'][:], label=dataset.id)\n",
    "    \n",
    "\n",
    "ax[0, 0].set_xlabel('time')\n",
    "ax[0, 0].set_ylabel('x_pos')\n",
    "ax[0, 0].set_title('x_pos')\n",
    "ax[0, 0].legend()\n",
    "\n",
    "ax[0, 1].set_xlabel('time')\n",
    "ax[0, 1].set_ylabel('y_pos')\n",
    "ax[0, 1].set_title('y_pos')\n",
    "ax[0, 1].legend()\n",
    "\n",
    "ax[0, 2].set_xlabel('time')\n",
    "ax[0, 2].set_ylabel('z_pos')\n",
    "ax[0, 2].set_title('z_pos')\n",
    "ax[0, 2].legend()\n",
    "\n",
    "ax[1, 0].set_xlabel('time')\n",
    "ax[1, 0].set_ylabel('x_diff')\n",
    "ax[1, 0].set_title('x_diff')\n",
    "ax[1, 0].legend()\n",
    "\n",
    "ax[1, 1].set_xlabel('time')\n",
    "ax[1, 1].set_ylabel('y_diff')\n",
    "ax[1, 1].set_title('y_diff')\n",
    "ax[1, 1].legend()\n",
    "\n",
    "ax[1, 2].set_xlabel('time')\n",
    "ax[1, 2].set_ylabel('z_diff')\n",
    "ax[1, 2].set_title('z_diff')\n",
    "ax[1, 2].legend()\n",
    "\n",
    "fig.savefig(\"./images/QoIs.png\")"
   ]
  },
  {
   "cell_type": "markdown",
   "metadata": {},
   "source": [
    "# RMSE Plots"
   ]
  },
  {
   "cell_type": "code",
   "execution_count": null,
   "metadata": {
    "scrolled": false
   },
   "outputs": [],
   "source": [
    "fig, ax = plt.subplots(nrows=1, ncols=3, figsize=(15, 10))\n",
    "\n",
    "header = 1\n",
    "for dataset in datastore.find(): # Each record is now a dataset\n",
    "    ax[0].bar(x=dataset.id, height=dataset.x_rmse)\n",
    "    ax[1].bar(x=dataset.id, height=dataset.y_rmse)\n",
    "    ax[2].bar(x=dataset.id, height=dataset.z_rmse)\n",
    "\n",
    "    if header == 1:\n",
    "        print('| rec.id | x_rmse | y_rmse | z_rmse | Mean RMSE |')\n",
    "        print('| --- | --- | --- | --- | --- |')\n",
    "        header = 0\n",
    "    print('|', dataset.id,\n",
    "          '|', round(dataset.x_rmse, 2),\n",
    "          '|', round(dataset.y_rmse, 2),\n",
    "          '|', round(dataset.z_rmse, 2),\n",
    "          '|', round((dataset.x_rmse+dataset.y_rmse+dataset.z_rmse)/3, 2),\n",
    "          '|'\n",
    "          )\n",
    "\n",
    "ax[0].tick_params(rotation=45)\n",
    "ax[1].tick_params(rotation=45)\n",
    "ax[2].tick_params(rotation=45)\n",
    "\n",
    "ax[0].set_title('x_rmse')\n",
    "ax[1].set_title('y_rmse')\n",
    "ax[2].set_title('z_rmse')\n",
    "\n",
    "ax[0].set_ylabel('x_rmse')\n",
    "ax[1].set_ylabel('y_rmse')\n",
    "ax[2].set_ylabel('z_rmse')\n",
    "\n",
    "fig.savefig(\"./images/RMSE.png\")"
   ]
  },
  {
   "cell_type": "code",
   "execution_count": null,
   "metadata": {},
   "outputs": [],
   "source": []
  }
 ],
 "metadata": {
  "kernelspec": {
   "display_name": "ball-bounce-demo",
   "language": "python",
   "name": "ball-bounce-demo"
  },
  "language_info": {
   "codemirror_mode": {
    "name": "ipython",
    "version": 3
   },
   "file_extension": ".py",
   "mimetype": "text/x-python",
   "name": "python",
   "nbconvert_exporter": "python",
   "pygments_lexer": "ipython3",
   "version": "3.7.2"
  }
 },
 "nbformat": 4,
 "nbformat_minor": 2
}
